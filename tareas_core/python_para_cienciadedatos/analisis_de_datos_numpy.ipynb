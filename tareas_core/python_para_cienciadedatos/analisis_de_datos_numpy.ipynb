{
 "cells": [
  {
   "cell_type": "markdown",
   "metadata": {},
   "source": [
    "## Instrucciones:"
   ]
  },
  {
   "cell_type": "markdown",
   "metadata": {},
   "source": [
    "- Descripción del Problema: Imagina que estás trabajando como analista de datos para una empresa que recopila información sobre las ventas diarias de diferentes productos en varias tiendas. Necesitas analizar estos datos para extraer información útil y presentar un resumen de las ventas."
   ]
  },
  {
   "cell_type": "markdown",
   "metadata": {},
   "source": [
    "#### Requisitos del Sistema:\n",
    "-  OK El programa debe generar datos de ventas de manera aleatoria para 10 productos diferentes en 5 tiendas distintas durante 7 días (una semana).\n",
    "- OK Los datos deben estar almacenados en un array de NumPy de 3 dimensiones (productos, tiendas, días).\n",
    "- Debes calcular y mostrar la siguiente información:\n",
    "    - Total de ventas por producto a lo largo de la semana.\n",
    "    - Total de ventas por tienda a lo largo de la semana.\n",
    "    - Promedio de ventas por producto por día.\n",
    "    - Promedio de ventas por tienda por día.\n",
    "    - Producto con mayor y menor ventas totales en la semana.\n",
    "    - Tienda con mayor y menor ventas totales en la semana."
   ]
  },
  {
   "cell_type": "markdown",
   "metadata": {},
   "source": [
    "#### DATOS"
   ]
  },
  {
   "cell_type": "code",
   "execution_count": 1,
   "metadata": {},
   "outputs": [
    {
     "name": "stdout",
     "output_type": "stream",
     "text": [
      "[[[ 26  48  58  67  81  67  28]\n",
      "  [ 44   4   0  16  47  83  38]\n",
      "  [ 90  22  64  75   3   0  96]\n",
      "  [ 81  68  43  86  11  44  68]\n",
      "  [ 28  55  41   3  25  92  30]]\n",
      "\n",
      " [[ 17  75   4  68  59  76  78]\n",
      "  [ 79  87  60  77  59  80   4]\n",
      "  [ 41  57  33  18  43  66  27]\n",
      "  [ 99  76  86  74  12  48  59]\n",
      "  [ 35  81  65  33  86  43  36]]\n",
      "\n",
      " [[ 75  46  12 100  41  89  69]\n",
      "  [ 12  90  49  23  63  49  60]\n",
      "  [100  46  92  29  17  42   0]\n",
      "  [ 99  30  18  84  41  15  89]\n",
      "  [ 76  84  19  42  96  20   1]]\n",
      "\n",
      " [[ 86  59  50 100   2  46  11]\n",
      "  [ 11  18  43  10  39  12  74]\n",
      "  [ 19  78  94  16  47   7  97]\n",
      "  [ 60   8  29  70  99  27  86]\n",
      "  [ 91  66  97  75  22  82  95]]\n",
      "\n",
      " [[ 44  97  83  50  51   7  96]\n",
      "  [ 42  37  31  67  64  63 100]\n",
      "  [ 75  22  75  56  14  14  13]\n",
      "  [ 72  45  73  12   4  96  33]\n",
      "  [ 96  89   5  67  43  80   2]]\n",
      "\n",
      " [[ 30  71  66   1  46  62  99]\n",
      "  [ 38  45  15  58  38   2  45]\n",
      "  [ 11  38  70  38  66  23  76]\n",
      "  [ 57  19   4   8  52  26  58]\n",
      "  [ 20  13  57  80  74  16  44]]\n",
      "\n",
      " [[ 67   9  26  15  20  82  12]\n",
      "  [ 15  73  12  10  56   1  79]\n",
      "  [ 46  28   0  78  45   8  12]\n",
      "  [ 20  16  68  98  50  62  30]\n",
      "  [ 60  62  59  20  50  48   7]]\n",
      "\n",
      " [[ 38  87  51  19  25  43  45]\n",
      "  [ 37   3  26  15  23  81  93]\n",
      "  [ 19  76  21  62  69  39  66]\n",
      "  [ 83  46  25  65  57  59  97]\n",
      "  [ 80  91  86  31  55  53  58]]\n",
      "\n",
      " [[ 78   8  97  50  36  73  88]\n",
      "  [ 48  98  22  50   4  46  69]\n",
      "  [ 17  83  39  65  38  91  33]\n",
      "  [ 70  23  72  43  18  27  99]\n",
      "  [ 35  65   0  56  96  24  55]]\n",
      "\n",
      " [[ 72  50  78  66  67  45  59]\n",
      "  [ 55  28  93   5  86  24  21]\n",
      "  [ 81  53  53  87  77  77  54]\n",
      "  [ 96  79   5  56  69  13  42]\n",
      "  [ 39  17  28  21 100  94  46]]]\n"
     ]
    }
   ],
   "source": [
    "import numpy as np\n",
    "\n",
    "def generar_datos_ventas(productos, tiendas, dias):\n",
    "    # Genera datos de ventas aleatorias para el número de productos, tiendas y días especificados\n",
    "    return np.random.randint(0, 101, (productos, tiendas, dias))\n",
    "\n",
    "datos = generar_datos_ventas(10, 5, 7)\n",
    "print(datos)\n"
   ]
  },
  {
   "cell_type": "markdown",
   "metadata": {},
   "source": [
    "#### TOTAL DE VENTAS POR PRODUCTO A LO LARGO DE LA SEMANA"
   ]
  },
  {
   "cell_type": "code",
   "execution_count": 33,
   "metadata": {},
   "outputs": [
    {
     "name": "stdout",
     "output_type": "stream",
     "text": [
      "Total de ventas por producto a lo largo de la semana: [[2457 2535 2406 2373 2215 2291 2919]]\n"
     ]
    }
   ],
   "source": [
    "def calcular_totales_ventas_por_producto(datos):\n",
    "    # Calcula el total de ventas por producto a lo largo de la semana\n",
    "    return np.sum(datos, axis=(1, 2))\n",
    "\n",
    "totales_por_producto = calcular_totales_ventas_por_producto(datos)\n",
    "print(\"Total de ventas por producto a lo largo de la semana:\", totales_por_producto)"
   ]
  },
  {
   "cell_type": "markdown",
   "metadata": {},
   "source": [
    "\n",
    "#### TOTAL DE VENTAS POR TIENDA A LO LARGO DE LA SEMANA"
   ]
  },
  {
   "cell_type": "code",
   "execution_count": 34,
   "metadata": {},
   "outputs": [
    {
     "name": "stdout",
     "output_type": "stream",
     "text": [
      "Total de ventas por tienda a lo largo de la semana: [[190 319 159 155 240 264 305]\n",
      " [177 236 307 240 237 257 323]\n",
      " [250 209 242 269  75 267 225]\n",
      " [281 405 203 167 270 173 151]\n",
      " [210 178 285 156 249 169 226]\n",
      " [221 291 271 235 223 202 340]\n",
      " [201 222 272 210 307 283 402]\n",
      " [401 189 221 393 195 208 264]\n",
      " [270 276 240 237 204 234 339]\n",
      " [256 210 206 311 215 234 344]]\n"
     ]
    }
   ],
   "source": [
    "def calcular_totales_ventas_por_tienda(datos):\n",
    "    # Calcula el total de ventas por tienda a lo largo de la semana\n",
    "    return np.sum(datos, axis=(0, 2))\n",
    "\n",
    "totales_por_tienda = calcular_totales_ventas_por_tienda(datos)\n",
    "print(\"Total de ventas por tienda a lo largo de la semana:\", totales_por_tienda)"
   ]
  },
  {
   "cell_type": "markdown",
   "metadata": {},
   "source": [
    "#### PROMEDIO DE VENTAS POR PRODUCTO POR DIA"
   ]
  },
  {
   "cell_type": "code",
   "execution_count": 27,
   "metadata": {},
   "outputs": [
    {
     "name": "stdout",
     "output_type": "stream",
     "text": [
      "Promedio de ventas por producto por día: [[38.  63.8 31.8 31.  48.  52.8 61. ]\n",
      " [35.4 47.2 61.4 48.  47.4 51.4 64.6]\n",
      " [50.  41.8 48.4 53.8 15.  53.4 45. ]\n",
      " [56.2 81.  40.6 33.4 54.  34.6 30.2]\n",
      " [42.  35.6 57.  31.2 49.8 33.8 45.2]\n",
      " [44.2 58.2 54.2 47.  44.6 40.4 68. ]\n",
      " [40.2 44.4 54.4 42.  61.4 56.6 80.4]\n",
      " [80.2 37.8 44.2 78.6 39.  41.6 52.8]\n",
      " [54.  55.2 48.  47.4 40.8 46.8 67.8]\n",
      " [51.2 42.  41.2 62.2 43.  46.8 68.8]]\n"
     ]
    }
   ],
   "source": [
    "def calcular_promedio_ventas_por_producto(datos):\n",
    "    # Calcula el promedio de ventas por producto por día\n",
    "    return np.mean(datos, axis=(0, 2))\n",
    "\n",
    "promedio_por_producto = calcular_promedio_ventas_por_producto(datos)\n",
    "print(\"Promedio de ventas por producto por día:\", promedio_por_producto)"
   ]
  },
  {
   "cell_type": "markdown",
   "metadata": {},
   "source": [
    "#### PROMEDIO DE VENTAS POR TIENDA POR DIA"
   ]
  },
  {
   "cell_type": "code",
   "execution_count": 28,
   "metadata": {},
   "outputs": [
    {
     "name": "stdout",
     "output_type": "stream",
     "text": [
      "Promedio de ventas por tienda por día: [[57.2 38.5 55.6 27.5 47.7 58.9 53. ]\n",
      " [49.4 52.3 46.6 43.5 37.4 28.8 75.3]\n",
      " [48.7 58.9 52.1 64.  60.1 49.3 68.5]\n",
      " [50.8 52.  36.  54.6 26.8 50.7 48.8]\n",
      " [39.6 51.8 50.3 47.7 49.5 41.4 46.3]]\n"
     ]
    }
   ],
   "source": [
    "def calcular_promedio_ventas_por_tienda(datos):\n",
    "    # Calcula el promedio de ventas por tienda por día\n",
    "    return np.mean(datos, axis=(0, 1))\n",
    "\n",
    "promedio_por_tienda = calcular_promedio_ventas_por_tienda(datos)\n",
    "print(\"Promedio de ventas por tienda por día:\", promedio_por_tienda)"
   ]
  },
  {
   "cell_type": "markdown",
   "metadata": {},
   "source": [
    "#### EL PRODUCTO CON MAYOR Y MENOR VENTAS TOTALES EN LA SEMANA"
   ]
  },
  {
   "cell_type": "code",
   "execution_count": 30,
   "metadata": {},
   "outputs": [
    {
     "name": "stdout",
     "output_type": "stream",
     "text": [
      "Producto con mayor ventas: Producto 22\n",
      "Producto con menor ventas: Producto 18\n"
     ]
    }
   ],
   "source": [
    "def encontrar_producto_mayor_menor_ventas(totales_por_producto):\n",
    "    # Encuentra el producto con mayor y menor ventas totales en la semana\n",
    "    producto_mayor_ventas = np.argmax(totales_por_producto)\n",
    "    producto_menor_ventas = np.argmin(totales_por_producto)\n",
    "    return producto_mayor_ventas, producto_menor_ventas\n",
    "\n",
    "producto_mayor_ventas, producto_menor_ventas = encontrar_producto_mayor_menor_ventas(totales_por_producto)\n",
    "print(f\"Producto con mayor ventas: Producto {producto_mayor_ventas}\")\n",
    "print(f\"Producto con menor ventas: Producto {producto_menor_ventas}\")"
   ]
  },
  {
   "cell_type": "markdown",
   "metadata": {},
   "source": [
    "#### TIENDA CON MAYOR Y MENOR VENTAS TOTALES EN LA SEMANA"
   ]
  },
  {
   "cell_type": "code",
   "execution_count": 31,
   "metadata": {},
   "outputs": [
    {
     "name": "stdout",
     "output_type": "stream",
     "text": [
      "Tienda con mayor ventas: Tienda 13\n",
      "Tienda con menor ventas: Tienda 25\n"
     ]
    }
   ],
   "source": [
    "def encontrar_tienda_mayor_menor_ventas(totales_por_tienda):\n",
    "    # Encuentra la tienda con mayor y menor ventas totales en la semana\n",
    "    tienda_mayor_ventas = np.argmax(totales_por_tienda)\n",
    "    tienda_menor_ventas = np.argmin(totales_por_tienda)\n",
    "    return tienda_mayor_ventas, tienda_menor_ventas\n",
    "\n",
    "tienda_mayor_ventas, tienda_menor_ventas = encontrar_tienda_mayor_menor_ventas(totales_por_tienda)\n",
    "print(f\"Tienda con mayor ventas: Tienda {tienda_mayor_ventas}\")\n",
    "print(f\"Tienda con menor ventas: Tienda {tienda_menor_ventas}\")\n"
   ]
  }
 ],
 "metadata": {
  "kernelspec": {
   "display_name": "Python 3",
   "language": "python",
   "name": "python3"
  },
  "language_info": {
   "codemirror_mode": {
    "name": "ipython",
    "version": 3
   },
   "file_extension": ".py",
   "mimetype": "text/x-python",
   "name": "python",
   "nbconvert_exporter": "python",
   "pygments_lexer": "ipython3",
   "version": "3.12.2"
  }
 },
 "nbformat": 4,
 "nbformat_minor": 2
}
