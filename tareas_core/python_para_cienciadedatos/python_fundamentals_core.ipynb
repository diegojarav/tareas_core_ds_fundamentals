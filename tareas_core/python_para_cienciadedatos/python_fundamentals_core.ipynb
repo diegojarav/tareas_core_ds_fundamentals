{
 "cells": [
  {
   "cell_type": "markdown",
   "metadata": {},
   "source": []
  },
  {
   "cell_type": "markdown",
   "metadata": {},
   "source": [
    "## Python Fundamentals / Ejercicios Listas, Tuplas y diccionarios (Core)\n",
    "\n",
    "#### Objetivo: Utilizar listas, tuplas y diccionarios para realizar un análisis básico de datos de ventas utilizando Python."
   ]
  },
  {
   "cell_type": "markdown",
   "metadata": {},
   "source": [
    "Carga de Datos:\n",
    "Crea una lista de diccionarios llamada ventas, donde cada diccionario represente una venta. Cada venta debe incluir las siguientes claves:\n",
    "«fecha»: una cadena de texto que represente la fecha de la venta (por ejemplo, «2024-01-01»).\n",
    "«producto»: una cadena de texto que represente el nombre del producto vendido.\n",
    "«cantidad»: un número entero que represente la cantidad de productos vendidos.\n",
    "«precio»: un número flotante que represente el precio unitario del producto."
   ]
  }
 ],
 "metadata": {
  "language_info": {
   "name": "python"
  }
 },
 "nbformat": 4,
 "nbformat_minor": 2
}
