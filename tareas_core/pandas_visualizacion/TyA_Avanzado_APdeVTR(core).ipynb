{
 "cells": [
  {
   "cell_type": "markdown",
   "metadata": {},
   "source": [
    "## Análisis y Predicción de Ventas en una Tienda de Retail (Core)\n",
    "\n",
    "### Parte III: Transformación y Análisis Avanzado de Datos con Pandas\n",
    "\n",
    "En esta tercera parte del proyecto, continuaremos trabajando con el dataset de ventas que utilizamos en la Parte II. En esta fase, aplicaremos técnicas avanzadas de transformación y análisis de datos utilizando las nuevas habilidades adquiridas en Pandas, tales como agrupaciones complejas y el uso del método apply. Nos enfocaremos en extraer insights más profundos y preparar los datos para futuros análisis y modelos predictivos.\n",
    "\n",
    "### Instrucciones\n"
   ]
  },
  {
   "cell_type": "code",
   "execution_count": 23,
   "metadata": {},
   "outputs": [
    {
     "name": "stdout",
     "output_type": "stream",
     "text": [
      "Visusalizamos nuestro dataset:\n"
     ]
    },
    {
     "data": {
      "text/html": [
       "<div>\n",
       "<style scoped>\n",
       "    .dataframe tbody tr th:only-of-type {\n",
       "        vertical-align: middle;\n",
       "    }\n",
       "\n",
       "    .dataframe tbody tr th {\n",
       "        vertical-align: top;\n",
       "    }\n",
       "\n",
       "    .dataframe thead th {\n",
       "        text-align: right;\n",
       "    }\n",
       "</style>\n",
       "<table border=\"1\" class=\"dataframe\">\n",
       "  <thead>\n",
       "    <tr style=\"text-align: right;\">\n",
       "      <th></th>\n",
       "      <th>Transaction ID</th>\n",
       "      <th>Date</th>\n",
       "      <th>Customer ID</th>\n",
       "      <th>Gender</th>\n",
       "      <th>Age</th>\n",
       "      <th>Product Category</th>\n",
       "      <th>Quantity</th>\n",
       "      <th>Price per Unit</th>\n",
       "      <th>Total Amount</th>\n",
       "    </tr>\n",
       "  </thead>\n",
       "  <tbody>\n",
       "    <tr>\n",
       "      <th>0</th>\n",
       "      <td>1</td>\n",
       "      <td>2023-11-24</td>\n",
       "      <td>CUST001</td>\n",
       "      <td>Male</td>\n",
       "      <td>34</td>\n",
       "      <td>Beauty</td>\n",
       "      <td>3</td>\n",
       "      <td>50</td>\n",
       "      <td>150</td>\n",
       "    </tr>\n",
       "    <tr>\n",
       "      <th>1</th>\n",
       "      <td>2</td>\n",
       "      <td>2023-02-27</td>\n",
       "      <td>CUST002</td>\n",
       "      <td>Female</td>\n",
       "      <td>26</td>\n",
       "      <td>Clothing</td>\n",
       "      <td>2</td>\n",
       "      <td>500</td>\n",
       "      <td>1000</td>\n",
       "    </tr>\n",
       "    <tr>\n",
       "      <th>2</th>\n",
       "      <td>3</td>\n",
       "      <td>2023-01-13</td>\n",
       "      <td>CUST003</td>\n",
       "      <td>Male</td>\n",
       "      <td>50</td>\n",
       "      <td>Electronics</td>\n",
       "      <td>1</td>\n",
       "      <td>30</td>\n",
       "      <td>30</td>\n",
       "    </tr>\n",
       "    <tr>\n",
       "      <th>3</th>\n",
       "      <td>4</td>\n",
       "      <td>2023-05-21</td>\n",
       "      <td>CUST004</td>\n",
       "      <td>Male</td>\n",
       "      <td>37</td>\n",
       "      <td>Clothing</td>\n",
       "      <td>1</td>\n",
       "      <td>500</td>\n",
       "      <td>500</td>\n",
       "    </tr>\n",
       "    <tr>\n",
       "      <th>4</th>\n",
       "      <td>5</td>\n",
       "      <td>2023-05-06</td>\n",
       "      <td>CUST005</td>\n",
       "      <td>Male</td>\n",
       "      <td>30</td>\n",
       "      <td>Beauty</td>\n",
       "      <td>2</td>\n",
       "      <td>50</td>\n",
       "      <td>100</td>\n",
       "    </tr>\n",
       "    <tr>\n",
       "      <th>...</th>\n",
       "      <td>...</td>\n",
       "      <td>...</td>\n",
       "      <td>...</td>\n",
       "      <td>...</td>\n",
       "      <td>...</td>\n",
       "      <td>...</td>\n",
       "      <td>...</td>\n",
       "      <td>...</td>\n",
       "      <td>...</td>\n",
       "    </tr>\n",
       "    <tr>\n",
       "      <th>995</th>\n",
       "      <td>996</td>\n",
       "      <td>2023-05-16</td>\n",
       "      <td>CUST996</td>\n",
       "      <td>Male</td>\n",
       "      <td>62</td>\n",
       "      <td>Clothing</td>\n",
       "      <td>1</td>\n",
       "      <td>50</td>\n",
       "      <td>50</td>\n",
       "    </tr>\n",
       "    <tr>\n",
       "      <th>996</th>\n",
       "      <td>997</td>\n",
       "      <td>2023-11-17</td>\n",
       "      <td>CUST997</td>\n",
       "      <td>Male</td>\n",
       "      <td>52</td>\n",
       "      <td>Beauty</td>\n",
       "      <td>3</td>\n",
       "      <td>30</td>\n",
       "      <td>90</td>\n",
       "    </tr>\n",
       "    <tr>\n",
       "      <th>997</th>\n",
       "      <td>998</td>\n",
       "      <td>2023-10-29</td>\n",
       "      <td>CUST998</td>\n",
       "      <td>Female</td>\n",
       "      <td>23</td>\n",
       "      <td>Beauty</td>\n",
       "      <td>4</td>\n",
       "      <td>25</td>\n",
       "      <td>100</td>\n",
       "    </tr>\n",
       "    <tr>\n",
       "      <th>998</th>\n",
       "      <td>999</td>\n",
       "      <td>2023-12-05</td>\n",
       "      <td>CUST999</td>\n",
       "      <td>Female</td>\n",
       "      <td>36</td>\n",
       "      <td>Electronics</td>\n",
       "      <td>3</td>\n",
       "      <td>50</td>\n",
       "      <td>150</td>\n",
       "    </tr>\n",
       "    <tr>\n",
       "      <th>999</th>\n",
       "      <td>1000</td>\n",
       "      <td>2023-04-12</td>\n",
       "      <td>CUST1000</td>\n",
       "      <td>Male</td>\n",
       "      <td>47</td>\n",
       "      <td>Electronics</td>\n",
       "      <td>4</td>\n",
       "      <td>30</td>\n",
       "      <td>120</td>\n",
       "    </tr>\n",
       "  </tbody>\n",
       "</table>\n",
       "<p>1000 rows × 9 columns</p>\n",
       "</div>"
      ],
      "text/plain": [
       "     Transaction ID        Date Customer ID  Gender  Age Product Category  \\\n",
       "0                 1  2023-11-24     CUST001    Male   34           Beauty   \n",
       "1                 2  2023-02-27     CUST002  Female   26         Clothing   \n",
       "2                 3  2023-01-13     CUST003    Male   50      Electronics   \n",
       "3                 4  2023-05-21     CUST004    Male   37         Clothing   \n",
       "4                 5  2023-05-06     CUST005    Male   30           Beauty   \n",
       "..              ...         ...         ...     ...  ...              ...   \n",
       "995             996  2023-05-16     CUST996    Male   62         Clothing   \n",
       "996             997  2023-11-17     CUST997    Male   52           Beauty   \n",
       "997             998  2023-10-29     CUST998  Female   23           Beauty   \n",
       "998             999  2023-12-05     CUST999  Female   36      Electronics   \n",
       "999            1000  2023-04-12    CUST1000    Male   47      Electronics   \n",
       "\n",
       "     Quantity  Price per Unit  Total Amount  \n",
       "0           3              50           150  \n",
       "1           2             500          1000  \n",
       "2           1              30            30  \n",
       "3           1             500           500  \n",
       "4           2              50           100  \n",
       "..        ...             ...           ...  \n",
       "995         1              50            50  \n",
       "996         3              30            90  \n",
       "997         4              25           100  \n",
       "998         3              50           150  \n",
       "999         4              30           120  \n",
       "\n",
       "[1000 rows x 9 columns]"
      ]
     },
     "execution_count": 23,
     "metadata": {},
     "output_type": "execute_result"
    }
   ],
   "source": [
    "import numpy as np\n",
    "import pandas as pd\n",
    "import matplotlib.pyplot as plt\n",
    "import time\n",
    "\n",
    "# Cargamos el dataset\n",
    "df = pd.read_csv('../data/retail_sales_dataset.csv')\n",
    "#Visualizamos el dataset\n",
    "print(\"Visusalizamos nuestro dataset:\")\n",
    "df"
   ]
  },
  {
   "cell_type": "code",
   "execution_count": 25,
   "metadata": {},
   "outputs": [
    {
     "name": "stdout",
     "output_type": "stream",
     "text": [
      "Visualizamos la informacion del dataset:\n",
      "<class 'pandas.core.frame.DataFrame'>\n",
      "RangeIndex: 1000 entries, 0 to 999\n",
      "Data columns (total 9 columns):\n",
      " #   Column            Non-Null Count  Dtype \n",
      "---  ------            --------------  ----- \n",
      " 0   Transaction ID    1000 non-null   int64 \n",
      " 1   Date              1000 non-null   object\n",
      " 2   Customer ID       1000 non-null   object\n",
      " 3   Gender            1000 non-null   object\n",
      " 4   Age               1000 non-null   int64 \n",
      " 5   Product Category  1000 non-null   object\n",
      " 6   Quantity          1000 non-null   int64 \n",
      " 7   Price per Unit    1000 non-null   int64 \n",
      " 8   Total Amount      1000 non-null   int64 \n",
      "dtypes: int64(5), object(4)\n",
      "memory usage: 70.4+ KB\n"
     ]
    }
   ],
   "source": [
    "'''Utiliza el método info() para obtener información general sobre el DataFrame, incluyendo el número de entradas, nombres de las columnas, tipos de datos y memoria utilizada.'''\n",
    "print('Visualizamos la informacion del dataset:')\n",
    "df.info()"
   ]
  },
  {
   "cell_type": "code",
   "execution_count": 28,
   "metadata": {},
   "outputs": [
    {
     "name": "stdout",
     "output_type": "stream",
     "text": [
      "Transaction ID               int64\n",
      "Date                datetime64[ns]\n",
      "Customer ID         string[python]\n",
      "Gender              string[python]\n",
      "Age                          int64\n",
      "Product Category          category\n",
      "Quantity                     int64\n",
      "Price per Unit               int64\n",
      "Total Amount                 int64\n",
      "dtype: object\n"
     ]
    }
   ],
   "source": [
    "#Verificación y ajuste de tipos de datos\n",
    "#Corregimos los tipos de datos\n",
    "df['Date'] = pd.to_datetime(df['Date']) # object a datetime\n",
    "df['Product Category'] =df['Product Category'].astype('category') # object a category\n",
    "\n",
    "dtypes_dict = df.dtypes.to_dict() # los demas objects a string\n",
    "\n",
    "for column, dtype in dtypes_dict.items():\n",
    "    if dtype == 'object':\n",
    "        dtypes_dict[column] = 'string'\n",
    "df = df.astype(dtypes_dict) \n",
    "print(df.dtypes) # imprimimos los tipos de datos arreglados"
   ]
  },
  {
   "cell_type": "code",
   "execution_count": 31,
   "metadata": {},
   "outputs": [
    {
     "name": "stdout",
     "output_type": "stream",
     "text": [
      "El dataset tiene 0 filas duplicadas\n"
     ]
    }
   ],
   "source": [
    "#Verificación de duplicados\n",
    "duplicados = df.duplicated().sum()\n",
    "print(\"El dataset tiene\", duplicados, \"filas duplicadas\")"
   ]
  },
  {
   "cell_type": "code",
   "execution_count": 32,
   "metadata": {},
   "outputs": [
    {
     "name": "stdout",
     "output_type": "stream",
     "text": [
      "El dataset tiene Transaction ID      0\n",
      "Date                0\n",
      "Customer ID         0\n",
      "Gender              0\n",
      "Age                 0\n",
      "Product Category    0\n",
      "Quantity            0\n",
      "Price per Unit      0\n",
      "Total Amount        0\n",
      "dtype: int64 filas vacias\n"
     ]
    }
   ],
   "source": [
    "# Verificacion de datos vacios\n",
    "vacios = df.isnull().sum()\n",
    "print(\"El dataset tiene\", vacios, \"filas vacias\")"
   ]
  },
  {
   "cell_type": "code",
   "execution_count": 27,
   "metadata": {},
   "outputs": [
    {
     "name": "stdout",
     "output_type": "stream",
     "text": [
      "Generamos estadisticas descriptivas:\n"
     ]
    },
    {
     "data": {
      "text/html": [
       "<div>\n",
       "<style scoped>\n",
       "    .dataframe tbody tr th:only-of-type {\n",
       "        vertical-align: middle;\n",
       "    }\n",
       "\n",
       "    .dataframe tbody tr th {\n",
       "        vertical-align: top;\n",
       "    }\n",
       "\n",
       "    .dataframe thead th {\n",
       "        text-align: right;\n",
       "    }\n",
       "</style>\n",
       "<table border=\"1\" class=\"dataframe\">\n",
       "  <thead>\n",
       "    <tr style=\"text-align: right;\">\n",
       "      <th></th>\n",
       "      <th>Transaction ID</th>\n",
       "      <th>Age</th>\n",
       "      <th>Quantity</th>\n",
       "      <th>Price per Unit</th>\n",
       "      <th>Total Amount</th>\n",
       "    </tr>\n",
       "  </thead>\n",
       "  <tbody>\n",
       "    <tr>\n",
       "      <th>count</th>\n",
       "      <td>1000.000000</td>\n",
       "      <td>1000.00000</td>\n",
       "      <td>1000.000000</td>\n",
       "      <td>1000.000000</td>\n",
       "      <td>1000.000000</td>\n",
       "    </tr>\n",
       "    <tr>\n",
       "      <th>mean</th>\n",
       "      <td>500.500000</td>\n",
       "      <td>41.39200</td>\n",
       "      <td>2.514000</td>\n",
       "      <td>179.890000</td>\n",
       "      <td>456.000000</td>\n",
       "    </tr>\n",
       "    <tr>\n",
       "      <th>std</th>\n",
       "      <td>288.819436</td>\n",
       "      <td>13.68143</td>\n",
       "      <td>1.132734</td>\n",
       "      <td>189.681356</td>\n",
       "      <td>559.997632</td>\n",
       "    </tr>\n",
       "    <tr>\n",
       "      <th>min</th>\n",
       "      <td>1.000000</td>\n",
       "      <td>18.00000</td>\n",
       "      <td>1.000000</td>\n",
       "      <td>25.000000</td>\n",
       "      <td>25.000000</td>\n",
       "    </tr>\n",
       "    <tr>\n",
       "      <th>25%</th>\n",
       "      <td>250.750000</td>\n",
       "      <td>29.00000</td>\n",
       "      <td>1.000000</td>\n",
       "      <td>30.000000</td>\n",
       "      <td>60.000000</td>\n",
       "    </tr>\n",
       "    <tr>\n",
       "      <th>50%</th>\n",
       "      <td>500.500000</td>\n",
       "      <td>42.00000</td>\n",
       "      <td>3.000000</td>\n",
       "      <td>50.000000</td>\n",
       "      <td>135.000000</td>\n",
       "    </tr>\n",
       "    <tr>\n",
       "      <th>75%</th>\n",
       "      <td>750.250000</td>\n",
       "      <td>53.00000</td>\n",
       "      <td>4.000000</td>\n",
       "      <td>300.000000</td>\n",
       "      <td>900.000000</td>\n",
       "    </tr>\n",
       "    <tr>\n",
       "      <th>max</th>\n",
       "      <td>1000.000000</td>\n",
       "      <td>64.00000</td>\n",
       "      <td>4.000000</td>\n",
       "      <td>500.000000</td>\n",
       "      <td>2000.000000</td>\n",
       "    </tr>\n",
       "  </tbody>\n",
       "</table>\n",
       "</div>"
      ],
      "text/plain": [
       "       Transaction ID         Age     Quantity  Price per Unit  Total Amount\n",
       "count     1000.000000  1000.00000  1000.000000     1000.000000   1000.000000\n",
       "mean       500.500000    41.39200     2.514000      179.890000    456.000000\n",
       "std        288.819436    13.68143     1.132734      189.681356    559.997632\n",
       "min          1.000000    18.00000     1.000000       25.000000     25.000000\n",
       "25%        250.750000    29.00000     1.000000       30.000000     60.000000\n",
       "50%        500.500000    42.00000     3.000000       50.000000    135.000000\n",
       "75%        750.250000    53.00000     4.000000      300.000000    900.000000\n",
       "max       1000.000000    64.00000     4.000000      500.000000   2000.000000"
      ]
     },
     "execution_count": 27,
     "metadata": {},
     "output_type": "execute_result"
    }
   ],
   "source": [
    "#Generamos estadisticas descriptivas\n",
    "print(\"Generamos estadisticas descriptivas:\")\n",
    "df.describe()"
   ]
  },
  {
   "cell_type": "code",
   "execution_count": 33,
   "metadata": {},
   "outputs": [
    {
     "data": {
      "text/plain": [
       "Transaction ID               int64\n",
       "Date                datetime64[ns]\n",
       "Customer ID         string[python]\n",
       "Gender              string[python]\n",
       "Age                          int64\n",
       "Product Category          category\n",
       "Quantity                     int64\n",
       "Price per Unit               int64\n",
       "Total Amount                 int64\n",
       "dtype: object"
      ]
     },
     "execution_count": 33,
     "metadata": {},
     "output_type": "execute_result"
    }
   ],
   "source": [
    "#Revisamos los tipos de datos\n",
    "df.dtypes"
   ]
  },
  {
   "cell_type": "markdown",
   "metadata": {},
   "source": [
    "\n",
    "#### Transformación de Datos\n",
    "- Crea nuevas columnas: Basándonos en los datos existentes, crea nuevas columnas que sean útiles para el análisis. Por ejemplo, calcula el ingreso total por venta y normaliza las ventas.\n",
    "- Clasifica los datos: Crea una columna que clasifique las ventas en categorías significativas (e.g., ‘Alta’, ‘Media’, ‘Baja’).\n"
   ]
  },
  {
   "cell_type": "code",
   "execution_count": 37,
   "metadata": {},
   "outputs": [
    {
     "name": "stdout",
     "output_type": "stream",
     "text": [
      "Ventas normalizadas:\n"
     ]
    },
    {
     "data": {
      "text/plain": [
       "0      0.063291\n",
       "1      0.493671\n",
       "2      0.002532\n",
       "3      0.240506\n",
       "4      0.037975\n",
       "         ...   \n",
       "995    0.012658\n",
       "996    0.032911\n",
       "997    0.037975\n",
       "998    0.063291\n",
       "999    0.048101\n",
       "Name: Ventas_normalizado, Length: 1000, dtype: float64"
      ]
     },
     "execution_count": 37,
     "metadata": {},
     "output_type": "execute_result"
    }
   ],
   "source": [
    "# Normalizar la columna 'Ventas'\n",
    "max_ventas = df['Total Amount'].max()\n",
    "min_ventas = df['Total Amount'].min()\n",
    "df['Ventas_normalizado'] = df['Total Amount'].apply(lambda x: (x - min_ventas) / (max_ventas - min_ventas))\n",
    "\n",
    "print('Ventas normalizadas:')\n",
    "df['Ventas_normalizado']"
   ]
  },
  {
   "cell_type": "code",
   "execution_count": 38,
   "metadata": {},
   "outputs": [
    {
     "name": "stdout",
     "output_type": "stream",
     "text": [
      "     Transaction ID       Date Customer ID  Gender  Age Product Category  \\\n",
      "0                 1 2023-11-24     CUST001    Male   34           Beauty   \n",
      "1                 2 2023-02-27     CUST002  Female   26         Clothing   \n",
      "2                 3 2023-01-13     CUST003    Male   50      Electronics   \n",
      "3                 4 2023-05-21     CUST004    Male   37         Clothing   \n",
      "4                 5 2023-05-06     CUST005    Male   30           Beauty   \n",
      "..              ...        ...         ...     ...  ...              ...   \n",
      "995             996 2023-05-16     CUST996    Male   62         Clothing   \n",
      "996             997 2023-11-17     CUST997    Male   52           Beauty   \n",
      "997             998 2023-10-29     CUST998  Female   23           Beauty   \n",
      "998             999 2023-12-05     CUST999  Female   36      Electronics   \n",
      "999            1000 2023-04-12    CUST1000    Male   47      Electronics   \n",
      "\n",
      "     Quantity  Price per Unit  Total Amount  Ventas_normalizado Clasificación  \n",
      "0           3              50           150            0.063291          bajo  \n",
      "1           2             500          1000            0.493671         medio  \n",
      "2           1              30            30            0.002532          bajo  \n",
      "3           1             500           500            0.240506          bajo  \n",
      "4           2              50           100            0.037975          bajo  \n",
      "..        ...             ...           ...                 ...           ...  \n",
      "995         1              50            50            0.012658          bajo  \n",
      "996         3              30            90            0.032911          bajo  \n",
      "997         4              25           100            0.037975          bajo  \n",
      "998         3              50           150            0.063291          bajo  \n",
      "999         4              30           120            0.048101          bajo  \n",
      "\n",
      "[1000 rows x 11 columns]\n"
     ]
    }
   ],
   "source": [
    "# Clasificar las ventas normalizadas\n",
    "df['Clasificación'] = df['Ventas_normalizado'].apply(lambda x: 'alto' if x > 0.7 else 'medio' if x > 0.3 else 'bajo')\n",
    "print(df)"
   ]
  },
  {
   "cell_type": "code",
   "execution_count": 39,
   "metadata": {},
   "outputs": [
    {
     "data": {
      "text/plain": [
       "Clasificación\n",
       "bajo     736\n",
       "medio    165\n",
       "alto      99\n",
       "Name: count, dtype: int64"
      ]
     },
     "execution_count": 39,
     "metadata": {},
     "output_type": "execute_result"
    }
   ],
   "source": [
    "# Revisamos la clasificación en base a las ventas normalizadas\n",
    "df['Clasificación'].value_counts()"
   ]
  },
  {
   "cell_type": "markdown",
   "metadata": {},
   "source": [
    "\n",
    "#### Agrupación y Agregación\n",
    "- Agrupación por múltiples columnas: Realiza agrupaciones por categorías como producto y tienda, producto y mes, etc.\n",
    "- Aplicar funciones de agregación: Utiliza funciones como sum, mean, count, min, max, std, y var para obtener estadísticas descriptivas de cada grupo.\n"
   ]
  },
  {
   "cell_type": "code",
   "execution_count": 51,
   "metadata": {},
   "outputs": [
    {
     "name": "stdout",
     "output_type": "stream",
     "text": [
      "Valores unicos en la columna Quantity 4\n",
      "Valores en la columna Quantity [1, 2, 3, 4]\n"
     ]
    }
   ],
   "source": [
    "# Contamos la catindad de valores unicos en la columna 'Quantity' para ver si hay valores y visualizamos cuales son\n",
    "print('Valores unicos en la columna Quantity' ,df['Quantity'].nunique())\n",
    "print('Valores en la columna Quantity', sorted(int(x) for x in df['Quantity'].unique()))"
   ]
  },
  {
   "cell_type": "code",
   "execution_count": 44,
   "metadata": {},
   "outputs": [
    {
     "name": "stderr",
     "output_type": "stream",
     "text": [
      "C:\\Users\\diego\\AppData\\Local\\Temp\\ipykernel_38496\\16210610.py:1: FutureWarning: The default of observed=False is deprecated and will be changed to True in a future version of pandas. Pass observed=False to retain current behavior or observed=True to adopt the future default and silence this warning.\n",
      "  estadisticas = df.groupby(['Product Category','Quantity'])['Total Amount'].agg(['count','sum', 'mean', 'max', 'min', 'var', 'std'])\n"
     ]
    },
    {
     "data": {
      "text/html": [
       "<div>\n",
       "<style scoped>\n",
       "    .dataframe tbody tr th:only-of-type {\n",
       "        vertical-align: middle;\n",
       "    }\n",
       "\n",
       "    .dataframe tbody tr th {\n",
       "        vertical-align: top;\n",
       "    }\n",
       "\n",
       "    .dataframe thead th {\n",
       "        text-align: right;\n",
       "    }\n",
       "</style>\n",
       "<table border=\"1\" class=\"dataframe\">\n",
       "  <thead>\n",
       "    <tr style=\"text-align: right;\">\n",
       "      <th></th>\n",
       "      <th></th>\n",
       "      <th>count</th>\n",
       "      <th>sum</th>\n",
       "      <th>mean</th>\n",
       "      <th>max</th>\n",
       "      <th>min</th>\n",
       "      <th>var</th>\n",
       "      <th>std</th>\n",
       "    </tr>\n",
       "    <tr>\n",
       "      <th>Product Category</th>\n",
       "      <th>Quantity</th>\n",
       "      <th></th>\n",
       "      <th></th>\n",
       "      <th></th>\n",
       "      <th></th>\n",
       "      <th></th>\n",
       "      <th></th>\n",
       "      <th></th>\n",
       "    </tr>\n",
       "  </thead>\n",
       "  <tbody>\n",
       "    <tr>\n",
       "      <th rowspan=\"4\" valign=\"top\">Beauty</th>\n",
       "      <th>1</th>\n",
       "      <td>74</td>\n",
       "      <td>11730</td>\n",
       "      <td>158.513514</td>\n",
       "      <td>500</td>\n",
       "      <td>25</td>\n",
       "      <td>35702.554609</td>\n",
       "      <td>188.951196</td>\n",
       "    </tr>\n",
       "    <tr>\n",
       "      <th>2</th>\n",
       "      <td>75</td>\n",
       "      <td>29930</td>\n",
       "      <td>399.066667</td>\n",
       "      <td>1000</td>\n",
       "      <td>50</td>\n",
       "      <td>166084.252252</td>\n",
       "      <td>407.534357</td>\n",
       "    </tr>\n",
       "    <tr>\n",
       "      <th>3</th>\n",
       "      <td>85</td>\n",
       "      <td>52155</td>\n",
       "      <td>613.588235</td>\n",
       "      <td>1500</td>\n",
       "      <td>75</td>\n",
       "      <td>360689.054622</td>\n",
       "      <td>600.573938</td>\n",
       "    </tr>\n",
       "    <tr>\n",
       "      <th>4</th>\n",
       "      <td>73</td>\n",
       "      <td>49700</td>\n",
       "      <td>680.821918</td>\n",
       "      <td>2000</td>\n",
       "      <td>100</td>\n",
       "      <td>548015.981735</td>\n",
       "      <td>740.281015</td>\n",
       "    </tr>\n",
       "    <tr>\n",
       "      <th rowspan=\"4\" valign=\"top\">Clothing</th>\n",
       "      <th>1</th>\n",
       "      <td>88</td>\n",
       "      <td>16115</td>\n",
       "      <td>183.125000</td>\n",
       "      <td>500</td>\n",
       "      <td>25</td>\n",
       "      <td>38893.857759</td>\n",
       "      <td>197.215257</td>\n",
       "    </tr>\n",
       "    <tr>\n",
       "      <th>2</th>\n",
       "      <td>80</td>\n",
       "      <td>24670</td>\n",
       "      <td>308.375000</td>\n",
       "      <td>1000</td>\n",
       "      <td>50</td>\n",
       "      <td>127482.136076</td>\n",
       "      <td>357.046406</td>\n",
       "    </tr>\n",
       "    <tr>\n",
       "      <th>3</th>\n",
       "      <td>86</td>\n",
       "      <td>48315</td>\n",
       "      <td>561.802326</td>\n",
       "      <td>1500</td>\n",
       "      <td>75</td>\n",
       "      <td>303917.595759</td>\n",
       "      <td>551.287217</td>\n",
       "    </tr>\n",
       "    <tr>\n",
       "      <th>4</th>\n",
       "      <td>97</td>\n",
       "      <td>66480</td>\n",
       "      <td>685.360825</td>\n",
       "      <td>2000</td>\n",
       "      <td>100</td>\n",
       "      <td>547404.295533</td>\n",
       "      <td>739.867755</td>\n",
       "    </tr>\n",
       "    <tr>\n",
       "      <th rowspan=\"4\" valign=\"top\">Electronics</th>\n",
       "      <th>1</th>\n",
       "      <td>91</td>\n",
       "      <td>16960</td>\n",
       "      <td>186.373626</td>\n",
       "      <td>500</td>\n",
       "      <td>25</td>\n",
       "      <td>34904.481074</td>\n",
       "      <td>186.827410</td>\n",
       "    </tr>\n",
       "    <tr>\n",
       "      <th>2</th>\n",
       "      <td>88</td>\n",
       "      <td>26450</td>\n",
       "      <td>300.568182</td>\n",
       "      <td>1000</td>\n",
       "      <td>50</td>\n",
       "      <td>144614.615987</td>\n",
       "      <td>380.282285</td>\n",
       "    </tr>\n",
       "    <tr>\n",
       "      <th>3</th>\n",
       "      <td>70</td>\n",
       "      <td>43815</td>\n",
       "      <td>625.928571</td>\n",
       "      <td>1500</td>\n",
       "      <td>75</td>\n",
       "      <td>312495.139752</td>\n",
       "      <td>559.012647</td>\n",
       "    </tr>\n",
       "    <tr>\n",
       "      <th>4</th>\n",
       "      <td>93</td>\n",
       "      <td>69680</td>\n",
       "      <td>749.247312</td>\n",
       "      <td>2000</td>\n",
       "      <td>100</td>\n",
       "      <td>584717.905563</td>\n",
       "      <td>764.668494</td>\n",
       "    </tr>\n",
       "  </tbody>\n",
       "</table>\n",
       "</div>"
      ],
      "text/plain": [
       "                           count    sum        mean   max  min            var  \\\n",
       "Product Category Quantity                                                       \n",
       "Beauty           1            74  11730  158.513514   500   25   35702.554609   \n",
       "                 2            75  29930  399.066667  1000   50  166084.252252   \n",
       "                 3            85  52155  613.588235  1500   75  360689.054622   \n",
       "                 4            73  49700  680.821918  2000  100  548015.981735   \n",
       "Clothing         1            88  16115  183.125000   500   25   38893.857759   \n",
       "                 2            80  24670  308.375000  1000   50  127482.136076   \n",
       "                 3            86  48315  561.802326  1500   75  303917.595759   \n",
       "                 4            97  66480  685.360825  2000  100  547404.295533   \n",
       "Electronics      1            91  16960  186.373626   500   25   34904.481074   \n",
       "                 2            88  26450  300.568182  1000   50  144614.615987   \n",
       "                 3            70  43815  625.928571  1500   75  312495.139752   \n",
       "                 4            93  69680  749.247312  2000  100  584717.905563   \n",
       "\n",
       "                                  std  \n",
       "Product Category Quantity              \n",
       "Beauty           1         188.951196  \n",
       "                 2         407.534357  \n",
       "                 3         600.573938  \n",
       "                 4         740.281015  \n",
       "Clothing         1         197.215257  \n",
       "                 2         357.046406  \n",
       "                 3         551.287217  \n",
       "                 4         739.867755  \n",
       "Electronics      1         186.827410  \n",
       "                 2         380.282285  \n",
       "                 3         559.012647  \n",
       "                 4         764.668494  "
      ]
     },
     "execution_count": 44,
     "metadata": {},
     "output_type": "execute_result"
    }
   ],
   "source": [
    "#Generamos estadísticas descriptivas para cada combinación de 'Product Category' y 'Quantity', para identificar patrones de ventas y comportamiento del cliente según la categoría del producto y la cantidad comprada.\n",
    "estadisticas = df.groupby(['Product Category','Quantity'])['Total Amount'].agg(['count','sum', 'mean', 'max', 'min', 'var', 'std'])\n",
    "estadisticas"
   ]
  },
  {
   "cell_type": "markdown",
   "metadata": {},
   "source": [
    "\n",
    "#### Análisis Personalizado con apply\n",
    "- Función personalizada: Aplica funciones personalizadas para realizar análisis específicos que no se pueden lograr con las funciones de agregación estándar.\n",
    "- Ejemplo de uso avanzado: Calcula la desviación de cada venta respecto a la media de su grupo.\n"
   ]
  },
  {
   "cell_type": "code",
   "execution_count": 53,
   "metadata": {},
   "outputs": [
    {
     "name": "stdout",
     "output_type": "stream",
     "text": [
      "    Product Category  Total Amount  desviacion_venta\n",
      "0             Beauty           150       -317.475570\n",
      "1           Clothing          1000        556.752137\n",
      "2        Electronics            30       -428.786550\n",
      "3           Clothing           500         56.752137\n",
      "4             Beauty           100       -367.475570\n",
      "..               ...           ...               ...\n",
      "995         Clothing            50       -393.247863\n",
      "996           Beauty            90       -377.475570\n",
      "997           Beauty           100       -367.475570\n",
      "998      Electronics           150       -308.786550\n",
      "999      Electronics           120       -338.786550\n",
      "\n",
      "[1000 rows x 3 columns]\n"
     ]
    },
    {
     "name": "stderr",
     "output_type": "stream",
     "text": [
      "C:\\Users\\diego\\AppData\\Local\\Temp\\ipykernel_38496\\1652930920.py:6: FutureWarning: The default of observed=False is deprecated and will be changed to True in a future version of pandas. Pass observed=False to retain current behavior or observed=True to adopt the future default and silence this warning.\n",
      "  df['desviacion_venta'] = df.groupby('Product Category')['Total Amount'].transform(\n"
     ]
    }
   ],
   "source": [
    "# Definir función de desviación respecto a la media\n",
    "def desviacion_venta(venta, media_grupo):\n",
    "    return venta - media_grupo\n",
    "\n",
    "# Calcular media de cada grupo y aplicar la función\n",
    "df['desviacion_venta'] = df.groupby('Product Category')['Total Amount'].transform(\n",
    "    lambda x: desviacion_venta(x, x.mean())\n",
    ")\n",
    "\n",
    "# Mostrar el resultado\n",
    "print(df[['Product Category', 'Total Amount', 'desviacion_venta']])\n"
   ]
  },
  {
   "cell_type": "markdown",
   "metadata": {},
   "source": [
    "\n",
    "#### Documentación\n",
    "- Comentarios claros: Documenta claramente cada paso del análisis, explicando qué se hizo y por qué se hizo.\n",
    "- Código legible: Asegúrate de que el código sea legible y esté bien comentado."
   ]
  }
 ],
 "metadata": {
  "kernelspec": {
   "display_name": "Python 3",
   "language": "python",
   "name": "python3"
  },
  "language_info": {
   "codemirror_mode": {
    "name": "ipython",
    "version": 3
   },
   "file_extension": ".py",
   "mimetype": "text/x-python",
   "name": "python",
   "nbconvert_exporter": "python",
   "pygments_lexer": "ipython3",
   "version": "3.12.2"
  }
 },
 "nbformat": 4,
 "nbformat_minor": 2
}
